{
 "cells": [
  {
   "cell_type": "code",
   "execution_count": 45,
   "metadata": {},
   "outputs": [],
   "source": [
    "from scipy.interpolate import interp1d\n",
    "import numpy as np\n",
    "\n",
    "import shlex\n",
    "import subprocess as sp\n",
    "\n",
    "import prettyplotlib as ppl\n",
    "from matplotlib import pyplot as plt\n",
    "from matplotlib.ticker import FuncFormatter\n",
    "import io\n",
    "from pandas import read_csv\n",
    "import os\n",
    "\n",
    "%matplotlib inline\n",
    "\n",
    "\n",
    "os.chdir(\"/home/matheus/Documentos/Mestrado/teste/poc-test-user-github/\")\n",
    "\n",
    "cmd = 'git log --no-merges --no-renames --numstat --pretty=format:\"%x09%x09%x09%aN\"'\n",
    "p = sp.Popen(shlex.split(cmd), stdout=sp.PIPE)\n",
    "\n",
    "stdout, _ = p.communicate()\n",
    "\n",
    "table = read_csv(io.StringIO(stdout.decode('utf-8')), sep=\"\\x09\", header=None,names=['additions', 'deletions', 'path','author', 'test'])\n",
    "\n",
    "# convert to DataFrame\n",
    "commit_data = table[['additions', 'deletions', 'path']].join(table[['author']].fillna(method='ffill')).dropna()\n",
    "commit_data.head()\n",
    "\n",
    "commit_data.to_csv(\"testeP.csv\")\n"
   ]
  },
  {
   "cell_type": "markdown",
   "metadata": {},
   "source": [
    "## Identifica quais são os arquivos de Test"
   ]
  },
  {
   "cell_type": "code",
   "execution_count": 46,
   "metadata": {},
   "outputs": [
    {
     "output_type": "execute_result",
     "data": {
      "text/plain": "    additions  deletions       path            author  \\\n1        14.0        0.0       html  Matheus Flauzino   \n2         0.0        0.0        css  Matheus Flauzino   \n4         2.0        0.0         js    Leticia Amaral   \n5         1.0        0.0         js    Leticia Amaral   \n7      4789.0      180.0       json  Matheus Flauzino   \n8         3.0        0.0       json  Matheus Flauzino   \n9         1.0        0.0         js  Matheus Flauzino   \n10        1.0        0.0         js  Matheus Flauzino   \n12       26.0        0.0       json    Leticia Amaral   \n13        1.0        0.0       json    Leticia Amaral   \n14        3.0        0.0         js    Leticia Amaral   \n16        1.0        0.0  gitignore  Matheus Flauzino   \n17       14.0        2.0         js  Matheus Flauzino   \n19       16.0        0.0  gitignore  Matheus Flauzino   \n20       28.0        0.0         js  Matheus Flauzino   \n21      374.0        0.0       json  Matheus Flauzino   \n22       16.0        0.0       json  Matheus Flauzino   \n\n                        origin  test  \n1          frontend/index.html     0  \n2           frontend/style.css     0  \n4          backend/services.js     0  \n5    backend/test/http.test.js     1  \n7    backend/package-lock.json     0  \n8         backend/package.json     0  \n9     backend/test/userTest.js     1  \n10  backend/tests/user.test.js     0  \n12   backend/package-lock.json     0  \n13        backend/package.json     0  \n14         backend/services.js     0  \n16                  .gitignore     0  \n17              backend/app.js     0  \n19          backend/.gitignore     0  \n20              backend/app.js     0  \n21   backend/package-lock.json     0  \n22        backend/package.json     0  ",
      "text/html": "<div>\n<style scoped>\n    .dataframe tbody tr th:only-of-type {\n        vertical-align: middle;\n    }\n\n    .dataframe tbody tr th {\n        vertical-align: top;\n    }\n\n    .dataframe thead th {\n        text-align: right;\n    }\n</style>\n<table border=\"1\" class=\"dataframe\">\n  <thead>\n    <tr style=\"text-align: right;\">\n      <th></th>\n      <th>additions</th>\n      <th>deletions</th>\n      <th>path</th>\n      <th>author</th>\n      <th>origin</th>\n      <th>test</th>\n    </tr>\n  </thead>\n  <tbody>\n    <tr>\n      <th>1</th>\n      <td>14.0</td>\n      <td>0.0</td>\n      <td>html</td>\n      <td>Matheus Flauzino</td>\n      <td>frontend/index.html</td>\n      <td>0</td>\n    </tr>\n    <tr>\n      <th>2</th>\n      <td>0.0</td>\n      <td>0.0</td>\n      <td>css</td>\n      <td>Matheus Flauzino</td>\n      <td>frontend/style.css</td>\n      <td>0</td>\n    </tr>\n    <tr>\n      <th>4</th>\n      <td>2.0</td>\n      <td>0.0</td>\n      <td>js</td>\n      <td>Leticia Amaral</td>\n      <td>backend/services.js</td>\n      <td>0</td>\n    </tr>\n    <tr>\n      <th>5</th>\n      <td>1.0</td>\n      <td>0.0</td>\n      <td>js</td>\n      <td>Leticia Amaral</td>\n      <td>backend/test/http.test.js</td>\n      <td>1</td>\n    </tr>\n    <tr>\n      <th>7</th>\n      <td>4789.0</td>\n      <td>180.0</td>\n      <td>json</td>\n      <td>Matheus Flauzino</td>\n      <td>backend/package-lock.json</td>\n      <td>0</td>\n    </tr>\n    <tr>\n      <th>8</th>\n      <td>3.0</td>\n      <td>0.0</td>\n      <td>json</td>\n      <td>Matheus Flauzino</td>\n      <td>backend/package.json</td>\n      <td>0</td>\n    </tr>\n    <tr>\n      <th>9</th>\n      <td>1.0</td>\n      <td>0.0</td>\n      <td>js</td>\n      <td>Matheus Flauzino</td>\n      <td>backend/test/userTest.js</td>\n      <td>1</td>\n    </tr>\n    <tr>\n      <th>10</th>\n      <td>1.0</td>\n      <td>0.0</td>\n      <td>js</td>\n      <td>Matheus Flauzino</td>\n      <td>backend/tests/user.test.js</td>\n      <td>0</td>\n    </tr>\n    <tr>\n      <th>12</th>\n      <td>26.0</td>\n      <td>0.0</td>\n      <td>json</td>\n      <td>Leticia Amaral</td>\n      <td>backend/package-lock.json</td>\n      <td>0</td>\n    </tr>\n    <tr>\n      <th>13</th>\n      <td>1.0</td>\n      <td>0.0</td>\n      <td>json</td>\n      <td>Leticia Amaral</td>\n      <td>backend/package.json</td>\n      <td>0</td>\n    </tr>\n    <tr>\n      <th>14</th>\n      <td>3.0</td>\n      <td>0.0</td>\n      <td>js</td>\n      <td>Leticia Amaral</td>\n      <td>backend/services.js</td>\n      <td>0</td>\n    </tr>\n    <tr>\n      <th>16</th>\n      <td>1.0</td>\n      <td>0.0</td>\n      <td>gitignore</td>\n      <td>Matheus Flauzino</td>\n      <td>.gitignore</td>\n      <td>0</td>\n    </tr>\n    <tr>\n      <th>17</th>\n      <td>14.0</td>\n      <td>2.0</td>\n      <td>js</td>\n      <td>Matheus Flauzino</td>\n      <td>backend/app.js</td>\n      <td>0</td>\n    </tr>\n    <tr>\n      <th>19</th>\n      <td>16.0</td>\n      <td>0.0</td>\n      <td>gitignore</td>\n      <td>Matheus Flauzino</td>\n      <td>backend/.gitignore</td>\n      <td>0</td>\n    </tr>\n    <tr>\n      <th>20</th>\n      <td>28.0</td>\n      <td>0.0</td>\n      <td>js</td>\n      <td>Matheus Flauzino</td>\n      <td>backend/app.js</td>\n      <td>0</td>\n    </tr>\n    <tr>\n      <th>21</th>\n      <td>374.0</td>\n      <td>0.0</td>\n      <td>json</td>\n      <td>Matheus Flauzino</td>\n      <td>backend/package-lock.json</td>\n      <td>0</td>\n    </tr>\n    <tr>\n      <th>22</th>\n      <td>16.0</td>\n      <td>0.0</td>\n      <td>json</td>\n      <td>Matheus Flauzino</td>\n      <td>backend/package.json</td>\n      <td>0</td>\n    </tr>\n  </tbody>\n</table>\n</div>"
     },
     "metadata": {},
     "execution_count": 46
    }
   ],
   "source": [
    "commit_data.filter(items=['path', 'author'])\n",
    "#marca somente os paths que estão dentro da pasta /test/\n",
    "\n",
    "commit_data['origin'] = commit_data['path']\n",
    "commit_data['test'] = commit_data.origin.apply(lambda x: 1 if '/test/' in x else 0)\n",
    "commit_data['path'] = commit_data.path.apply(lambda x: x.split('.')[-1])\n",
    "commit_data"
   ]
  },
  {
   "cell_type": "code",
   "execution_count": 47,
   "metadata": {},
   "outputs": [
    {
     "output_type": "execute_result",
     "data": {
      "text/plain": "7"
     },
     "metadata": {},
     "execution_count": 47
    }
   ],
   "source": [
    "#amount  files java in total \n",
    "total=commit_data.path.str.contains(r'js$',regex=True).sum()\n",
    "total"
   ]
  },
  {
   "cell_type": "code",
   "execution_count": 24,
   "metadata": {},
   "outputs": [
    {
     "output_type": "execute_result",
     "data": {
      "text/plain": "0"
     },
     "metadata": {},
     "execution_count": 24
    }
   ],
   "source": [
    "amount_test = commit_data.test.sum()\n",
    "amount_test"
   ]
  },
  {
   "cell_type": "markdown",
   "metadata": {},
   "source": [
    "## Separa teste dos demais arquivos (quantitativo)"
   ]
  },
  {
   "cell_type": "code",
   "execution_count": 25,
   "metadata": {},
   "outputs": [
    {
     "output_type": "execute_result",
     "data": {
      "text/plain": "0    6\nName: test, dtype: int64"
     },
     "metadata": {},
     "execution_count": 25
    }
   ],
   "source": [
    "commit_data['test'].value_counts()"
   ]
  },
  {
   "cell_type": "markdown",
   "metadata": {},
   "source": [
    "## Distribuição por arquivos"
   ]
  },
  {
   "cell_type": "code",
   "execution_count": 26,
   "metadata": {},
   "outputs": [
    {
     "output_type": "execute_result",
     "data": {
      "text/plain": "gitignore    2\njson         2\njs           2\nName: path, dtype: int64"
     },
     "metadata": {},
     "execution_count": 26
    }
   ],
   "source": [
    "commit_data['path'].value_counts()"
   ]
  },
  {
   "cell_type": "markdown",
   "metadata": {},
   "source": [
    "## Somente linguagem Java"
   ]
  },
  {
   "cell_type": "code",
   "execution_count": 102,
   "metadata": {},
   "outputs": [
    {
     "data": {
      "text/html": [
       "<div>\n",
       "<style scoped>\n",
       "    .dataframe tbody tr th:only-of-type {\n",
       "        vertical-align: middle;\n",
       "    }\n",
       "\n",
       "    .dataframe tbody tr th {\n",
       "        vertical-align: top;\n",
       "    }\n",
       "\n",
       "    .dataframe thead th {\n",
       "        text-align: right;\n",
       "    }\n",
       "</style>\n",
       "<table border=\"1\" class=\"dataframe\">\n",
       "  <thead>\n",
       "    <tr style=\"text-align: right;\">\n",
       "      <th></th>\n",
       "      <th>additions</th>\n",
       "      <th>deletions</th>\n",
       "      <th>path</th>\n",
       "      <th>author</th>\n",
       "      <th>origin</th>\n",
       "      <th>test</th>\n",
       "    </tr>\n",
       "  </thead>\n",
       "  <tbody>\n",
       "    <tr>\n",
       "      <th>5</th>\n",
       "      <td>23</td>\n",
       "      <td>11</td>\n",
       "      <td>java</td>\n",
       "      <td>Jiacheng Liu</td>\n",
       "      <td>integration/tools/validation/src/main/java/all...</td>\n",
       "      <td>0</td>\n",
       "    </tr>\n",
       "    <tr>\n",
       "      <th>6</th>\n",
       "      <td>15</td>\n",
       "      <td>0</td>\n",
       "      <td>java</td>\n",
       "      <td>Jiacheng Liu</td>\n",
       "      <td>integration/tools/validation/src/test/java/all...</td>\n",
       "      <td>1</td>\n",
       "    </tr>\n",
       "    <tr>\n",
       "      <th>8</th>\n",
       "      <td>15</td>\n",
       "      <td>8</td>\n",
       "      <td>java</td>\n",
       "      <td>Göktürk Gezer</td>\n",
       "      <td>core/server/common/src/test/java/alluxio/maste...</td>\n",
       "      <td>1</td>\n",
       "    </tr>\n",
       "    <tr>\n",
       "      <th>10</th>\n",
       "      <td>2</td>\n",
       "      <td>2</td>\n",
       "      <td>java</td>\n",
       "      <td>Bradley Yoo</td>\n",
       "      <td>core/server/master/src/main/java/alluxio/web/M...</td>\n",
       "      <td>0</td>\n",
       "    </tr>\n",
       "    <tr>\n",
       "      <th>11</th>\n",
       "      <td>2</td>\n",
       "      <td>2</td>\n",
       "      <td>java</td>\n",
       "      <td>Bradley Yoo</td>\n",
       "      <td>core/server/worker/src/main/java/alluxio/web/W...</td>\n",
       "      <td>0</td>\n",
       "    </tr>\n",
       "    <tr>\n",
       "      <th>...</th>\n",
       "      <td>...</td>\n",
       "      <td>...</td>\n",
       "      <td>...</td>\n",
       "      <td>...</td>\n",
       "      <td>...</td>\n",
       "      <td>...</td>\n",
       "    </tr>\n",
       "    <tr>\n",
       "      <th>130822</th>\n",
       "      <td>646</td>\n",
       "      <td>0</td>\n",
       "      <td>java</td>\n",
       "      <td>haoyuan</td>\n",
       "      <td>src/main/java/tachyon/thrift/PartitionInfo.java</td>\n",
       "      <td>0</td>\n",
       "    </tr>\n",
       "    <tr>\n",
       "      <th>130823</th>\n",
       "      <td>382</td>\n",
       "      <td>0</td>\n",
       "      <td>java</td>\n",
       "      <td>haoyuan</td>\n",
       "      <td>src/main/java/tachyon/thrift/SuspectedPartitio...</td>\n",
       "      <td>0</td>\n",
       "    </tr>\n",
       "    <tr>\n",
       "      <th>130824</th>\n",
       "      <td>5824</td>\n",
       "      <td>0</td>\n",
       "      <td>java</td>\n",
       "      <td>haoyuan</td>\n",
       "      <td>src/main/java/tachyon/thrift/WorkerService.java</td>\n",
       "      <td>0</td>\n",
       "    </tr>\n",
       "    <tr>\n",
       "      <th>130825</th>\n",
       "      <td>24</td>\n",
       "      <td>0</td>\n",
       "      <td>java</td>\n",
       "      <td>haoyuan</td>\n",
       "      <td>src/test/java/tachyon/TestUserInfo.java</td>\n",
       "      <td>1</td>\n",
       "    </tr>\n",
       "    <tr>\n",
       "      <th>130826</th>\n",
       "      <td>44</td>\n",
       "      <td>0</td>\n",
       "      <td>java</td>\n",
       "      <td>haoyuan</td>\n",
       "      <td>src/test/java/tachyon/hadoop/TestGlobExpander....</td>\n",
       "      <td>1</td>\n",
       "    </tr>\n",
       "  </tbody>\n",
       "</table>\n",
       "<p>83504 rows × 6 columns</p>\n",
       "</div>"
      ],
      "text/plain": [
       "       additions deletions  path         author  \\\n",
       "5             23        11  java   Jiacheng Liu   \n",
       "6             15         0  java   Jiacheng Liu   \n",
       "8             15         8  java  Göktürk Gezer   \n",
       "10             2         2  java    Bradley Yoo   \n",
       "11             2         2  java    Bradley Yoo   \n",
       "...          ...       ...   ...            ...   \n",
       "130822       646         0  java        haoyuan   \n",
       "130823       382         0  java        haoyuan   \n",
       "130824      5824         0  java        haoyuan   \n",
       "130825        24         0  java        haoyuan   \n",
       "130826        44         0  java        haoyuan   \n",
       "\n",
       "                                                   origin  test  \n",
       "5       integration/tools/validation/src/main/java/all...     0  \n",
       "6       integration/tools/validation/src/test/java/all...     1  \n",
       "8       core/server/common/src/test/java/alluxio/maste...     1  \n",
       "10      core/server/master/src/main/java/alluxio/web/M...     0  \n",
       "11      core/server/worker/src/main/java/alluxio/web/W...     0  \n",
       "...                                                   ...   ...  \n",
       "130822    src/main/java/tachyon/thrift/PartitionInfo.java     0  \n",
       "130823  src/main/java/tachyon/thrift/SuspectedPartitio...     0  \n",
       "130824    src/main/java/tachyon/thrift/WorkerService.java     0  \n",
       "130825            src/test/java/tachyon/TestUserInfo.java     1  \n",
       "130826  src/test/java/tachyon/hadoop/TestGlobExpander....     1  \n",
       "\n",
       "[83504 rows x 6 columns]"
      ]
     },
     "execution_count": 102,
     "metadata": {},
     "output_type": "execute_result"
    }
   ],
   "source": [
    "java_all = commit_data[commit_data['path'] == 'java']\n",
    "java_all"
   ]
  },
  {
   "cell_type": "markdown",
   "metadata": {},
   "source": [
    "## Quantidade de contribuição Java por author"
   ]
  },
  {
   "cell_type": "code",
   "execution_count": 103,
   "metadata": {},
   "outputs": [
    {
     "data": {
      "text/plain": [
       "Jiri Simsa         12073\n",
       "Bin Fan             9734\n",
       "Calvin Jia          7696\n",
       "Andrew Audibert     7276\n",
       "Gene Pang           3898\n",
       "                   ...  \n",
       "YinQiaoyi              1\n",
       "suinking               1\n",
       "nimrodzhang            1\n",
       "xuliang                1\n",
       "xiaoshankeji           1\n",
       "Name: author, Length: 1005, dtype: int64"
      ]
     },
     "execution_count": 103,
     "metadata": {},
     "output_type": "execute_result"
    }
   ],
   "source": [
    "java_all['author'].value_counts()"
   ]
  },
  {
   "cell_type": "code",
   "execution_count": 95,
   "metadata": {},
   "outputs": [
    {
     "data": {
      "text/plain": [
       "83504"
      ]
     },
     "execution_count": 95,
     "metadata": {},
     "output_type": "execute_result"
    }
   ],
   "source": [
    "count_java = java_all['path'].count()\n",
    "count_java"
   ]
  },
  {
   "cell_type": "code",
   "execution_count": 96,
   "metadata": {},
   "outputs": [
    {
     "data": {
      "text/html": [
       "<div>\n",
       "<style scoped>\n",
       "    .dataframe tbody tr th:only-of-type {\n",
       "        vertical-align: middle;\n",
       "    }\n",
       "\n",
       "    .dataframe tbody tr th {\n",
       "        vertical-align: top;\n",
       "    }\n",
       "\n",
       "    .dataframe thead th {\n",
       "        text-align: right;\n",
       "    }\n",
       "</style>\n",
       "<table border=\"1\" class=\"dataframe\">\n",
       "  <thead>\n",
       "    <tr style=\"text-align: right;\">\n",
       "      <th></th>\n",
       "      <th>additions</th>\n",
       "      <th>deletions</th>\n",
       "      <th>path</th>\n",
       "      <th>author</th>\n",
       "      <th>origin</th>\n",
       "      <th>test</th>\n",
       "    </tr>\n",
       "  </thead>\n",
       "  <tbody>\n",
       "    <tr>\n",
       "      <th>6</th>\n",
       "      <td>15</td>\n",
       "      <td>0</td>\n",
       "      <td>java</td>\n",
       "      <td>Jiacheng Liu</td>\n",
       "      <td>integration/tools/validation/src/test/java/all...</td>\n",
       "      <td>1</td>\n",
       "    </tr>\n",
       "    <tr>\n",
       "      <th>8</th>\n",
       "      <td>15</td>\n",
       "      <td>8</td>\n",
       "      <td>java</td>\n",
       "      <td>Göktürk Gezer</td>\n",
       "      <td>core/server/common/src/test/java/alluxio/maste...</td>\n",
       "      <td>1</td>\n",
       "    </tr>\n",
       "    <tr>\n",
       "      <th>96</th>\n",
       "      <td>7</td>\n",
       "      <td>8</td>\n",
       "      <td>java</td>\n",
       "      <td>Zac Blanco</td>\n",
       "      <td>core/server/master/src/test/java/alluxio/maste...</td>\n",
       "      <td>1</td>\n",
       "    </tr>\n",
       "    <tr>\n",
       "      <th>97</th>\n",
       "      <td>1</td>\n",
       "      <td>1</td>\n",
       "      <td>java</td>\n",
       "      <td>Zac Blanco</td>\n",
       "      <td>core/server/master/src/test/java/alluxio/maste...</td>\n",
       "      <td>1</td>\n",
       "    </tr>\n",
       "    <tr>\n",
       "      <th>98</th>\n",
       "      <td>2</td>\n",
       "      <td>2</td>\n",
       "      <td>java</td>\n",
       "      <td>Zac Blanco</td>\n",
       "      <td>tests/src/test/java/alluxio/client/fs/MultiUfs...</td>\n",
       "      <td>1</td>\n",
       "    </tr>\n",
       "    <tr>\n",
       "      <th>...</th>\n",
       "      <td>...</td>\n",
       "      <td>...</td>\n",
       "      <td>...</td>\n",
       "      <td>...</td>\n",
       "      <td>...</td>\n",
       "      <td>...</td>\n",
       "    </tr>\n",
       "    <tr>\n",
       "      <th>130116</th>\n",
       "      <td>0</td>\n",
       "      <td>2</td>\n",
       "      <td>java</td>\n",
       "      <td>haoyuan</td>\n",
       "      <td>src/main/java/tachyon/test/TestReadBig.java</td>\n",
       "      <td>1</td>\n",
       "    </tr>\n",
       "    <tr>\n",
       "      <th>130337</th>\n",
       "      <td>2</td>\n",
       "      <td>0</td>\n",
       "      <td>java</td>\n",
       "      <td>haoyuan</td>\n",
       "      <td>src/main/java/tachyon/test/TestReadBig.java</td>\n",
       "      <td>1</td>\n",
       "    </tr>\n",
       "    <tr>\n",
       "      <th>130426</th>\n",
       "      <td>34</td>\n",
       "      <td>0</td>\n",
       "      <td>java</td>\n",
       "      <td>haoyuan</td>\n",
       "      <td>src/main/java/tachyon/test/TestReadBig.java</td>\n",
       "      <td>1</td>\n",
       "    </tr>\n",
       "    <tr>\n",
       "      <th>130825</th>\n",
       "      <td>24</td>\n",
       "      <td>0</td>\n",
       "      <td>java</td>\n",
       "      <td>haoyuan</td>\n",
       "      <td>src/test/java/tachyon/TestUserInfo.java</td>\n",
       "      <td>1</td>\n",
       "    </tr>\n",
       "    <tr>\n",
       "      <th>130826</th>\n",
       "      <td>44</td>\n",
       "      <td>0</td>\n",
       "      <td>java</td>\n",
       "      <td>haoyuan</td>\n",
       "      <td>src/test/java/tachyon/hadoop/TestGlobExpander....</td>\n",
       "      <td>1</td>\n",
       "    </tr>\n",
       "  </tbody>\n",
       "</table>\n",
       "<p>21918 rows × 6 columns</p>\n",
       "</div>"
      ],
      "text/plain": [
       "       additions deletions  path         author  \\\n",
       "6             15         0  java   Jiacheng Liu   \n",
       "8             15         8  java  Göktürk Gezer   \n",
       "96             7         8  java     Zac Blanco   \n",
       "97             1         1  java     Zac Blanco   \n",
       "98             2         2  java     Zac Blanco   \n",
       "...          ...       ...   ...            ...   \n",
       "130116         0         2  java        haoyuan   \n",
       "130337         2         0  java        haoyuan   \n",
       "130426        34         0  java        haoyuan   \n",
       "130825        24         0  java        haoyuan   \n",
       "130826        44         0  java        haoyuan   \n",
       "\n",
       "                                                   origin  test  \n",
       "6       integration/tools/validation/src/test/java/all...     1  \n",
       "8       core/server/common/src/test/java/alluxio/maste...     1  \n",
       "96      core/server/master/src/test/java/alluxio/maste...     1  \n",
       "97      core/server/master/src/test/java/alluxio/maste...     1  \n",
       "98      tests/src/test/java/alluxio/client/fs/MultiUfs...     1  \n",
       "...                                                   ...   ...  \n",
       "130116        src/main/java/tachyon/test/TestReadBig.java     1  \n",
       "130337        src/main/java/tachyon/test/TestReadBig.java     1  \n",
       "130426        src/main/java/tachyon/test/TestReadBig.java     1  \n",
       "130825            src/test/java/tachyon/TestUserInfo.java     1  \n",
       "130826  src/test/java/tachyon/hadoop/TestGlobExpander....     1  \n",
       "\n",
       "[21918 rows x 6 columns]"
      ]
     },
     "execution_count": 96,
     "metadata": {},
     "output_type": "execute_result"
    }
   ],
   "source": [
    "java_test_all = java_all[java_all['test'] == 1]\n",
    "java_test_all"
   ]
  },
  {
   "cell_type": "code",
   "execution_count": 101,
   "metadata": {},
   "outputs": [
    {
     "data": {
      "text/plain": [
       "21918"
      ]
     },
     "execution_count": 101,
     "metadata": {},
     "output_type": "execute_result"
    }
   ],
   "source": [
    "count_java_test = java_test_all['path'].count()\n",
    "count_java_test"
   ]
  },
  {
   "cell_type": "markdown",
   "metadata": {},
   "source": [
    "## Quantidade de teste que cada Author fez"
   ]
  },
  {
   "cell_type": "code",
   "execution_count": 100,
   "metadata": {},
   "outputs": [
    {
     "data": {
      "text/plain": [
       "Jiri Simsa         3438\n",
       "Bin Fan            2820\n",
       "Calvin Jia         2348\n",
       "Andrew Audibert    2318\n",
       "Haoyuan Li          865\n",
       "                   ... \n",
       "courseralxy           1\n",
       "qgxiaozhan            1\n",
       "tangjijun             1\n",
       "Joney-Yf              1\n",
       "Kevin Chen            1\n",
       "Name: author, Length: 457, dtype: int64"
      ]
     },
     "execution_count": 100,
     "metadata": {},
     "output_type": "execute_result"
    }
   ],
   "source": [
    "java_test_all['author'].value_counts()"
   ]
  },
  {
   "cell_type": "code",
   "execution_count": 12,
   "metadata": {},
   "outputs": [
    {
     "data": {
      "text/plain": [
       "7276"
      ]
     },
     "execution_count": 12,
     "metadata": {},
     "output_type": "execute_result"
    }
   ],
   "source": [
    "#BY author  by Author  Java\n",
    "\n",
    "author = commit_data[commit_data['path'].str.contains('java') & commit_data['author'].str.contains('Andrew Audibert')]\n",
    "#author=commit_data.author.str.contains(r'Andrew Audibert').sum()\n",
    "author=author.author.str.contains('Andrew Audibert').sum()\n",
    "author"
   ]
  },
  {
   "cell_type": "code",
   "execution_count": 13,
   "metadata": {},
   "outputs": [
    {
     "data": {
      "text/plain": [
       "8.71"
      ]
     },
     "execution_count": 13,
     "metadata": {},
     "output_type": "execute_result"
    }
   ],
   "source": [
    "Java=round((author/ total)*100, 2)\n",
    "Java"
   ]
  },
  {
   "cell_type": "code",
   "execution_count": 14,
   "metadata": {},
   "outputs": [
    {
     "data": {
      "text/plain": [
       "244"
      ]
     },
     "execution_count": 14,
     "metadata": {},
     "output_type": "execute_result"
    }
   ],
   "source": [
    "#amount  files GO in total \n",
    "total=commit_data.path.str.contains(r'go').sum()\n",
    "total"
   ]
  },
  {
   "cell_type": "code",
   "execution_count": 15,
   "metadata": {},
   "outputs": [
    {
     "data": {
      "text/plain": [
       "103"
      ]
     },
     "execution_count": 15,
     "metadata": {},
     "output_type": "execute_result"
    }
   ],
   "source": [
    "#amount  files GO by Author \n",
    "author = commit_data[commit_data['path'].str.contains('go') & commit_data['author'].str.contains('Andrew Audibert')]\n",
    "#author=commit_data.author.str.contains(r'Andrew Audibert').sum()\n",
    "author=author.author.str.contains('Andrew Audibert').sum()\n",
    "author"
   ]
  },
  {
   "cell_type": "code",
   "execution_count": 17,
   "metadata": {},
   "outputs": [
    {
     "data": {
      "text/plain": [
       "186"
      ]
     },
     "execution_count": 17,
     "metadata": {},
     "output_type": "execute_result"
    }
   ],
   "source": [
    "#Export results \n",
    "commit_data.to_csv(\"resultt.csv\",index=False)\n",
    "\n",
    "#amount  files CSS in total \n",
    "total=commit_data.path.str.contains(r'css').sum()\n",
    "total\n"
   ]
  },
  {
   "cell_type": "code",
   "execution_count": 21,
   "metadata": {},
   "outputs": [
    {
     "data": {
      "text/plain": [
       "1"
      ]
     },
     "execution_count": 21,
     "metadata": {},
     "output_type": "execute_result"
    }
   ],
   "source": [
    "#amount  files CSS by Author \n",
    "author = commit_data[commit_data['path'].str.contains('css') & commit_data['author'].str.contains('Andrew Audibert')]\n",
    "#author=commit_data.author.str.contains(r'Andrew Audibert').sum()\n",
    "author=author.author.str.contains('Andrew Audibert').sum()\n",
    "author"
   ]
  },
  {
   "cell_type": "code",
   "execution_count": null,
   "metadata": {},
   "outputs": [],
   "source": []
  }
 ],
 "metadata": {
  "kernelspec": {
   "display_name": "Python 3",
   "language": "python",
   "name": "python3"
  },
  "language_info": {
   "codemirror_mode": {
    "name": "ipython",
    "version": 3
   },
   "file_extension": ".py",
   "mimetype": "text/x-python",
   "name": "python",
   "nbconvert_exporter": "python",
   "pygments_lexer": "ipython3",
   "version": "3.8.2-final"
  }
 },
 "nbformat": 4,
 "nbformat_minor": 4
}